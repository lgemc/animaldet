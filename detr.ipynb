{
 "cells": [
  {
   "cell_type": "code",
   "id": "initial_id",
   "metadata": {
    "collapsed": true,
    "ExecuteTime": {
     "end_time": "2025-10-20T19:47:42.870232Z",
     "start_time": "2025-10-20T19:46:58.928195Z"
    }
   },
   "source": [
    "!pip install rfdetr\n",
    "from rfdetr import RFDETRSmall\n",
    "\n",
    "model = RFDETRSmall()"
   ],
   "outputs": [
    {
     "name": "stdout",
     "output_type": "stream",
     "text": [
      "Collecting rfdetr\r\n",
      "  Using cached rfdetr-1.3.0-py3-none-any.whl.metadata (17 kB)\r\n",
      "Collecting cython (from rfdetr)\r\n",
      "  Downloading cython-3.1.5-cp313-cp313-macosx_11_0_arm64.whl.metadata (4.3 kB)\r\n",
      "Collecting pycocotools (from rfdetr)\r\n",
      "  Using cached pycocotools-2.0.10-cp312-abi3-macosx_10_13_universal2.whl.metadata (1.3 kB)\r\n",
      "Requirement already satisfied: torch>=1.13.0 in /Users/claudiaagudelo/Documents/Maestria/Cuarto Semestre/Desarrollo de soluciones/PDG/.venv/lib/python3.13/site-packages (from rfdetr) (2.8.0)\r\n",
      "Requirement already satisfied: torchvision>=0.14.0 in /Users/claudiaagudelo/Documents/Maestria/Cuarto Semestre/Desarrollo de soluciones/PDG/.venv/lib/python3.13/site-packages (from rfdetr) (0.23.0)\r\n",
      "Collecting fairscale (from rfdetr)\r\n",
      "  Using cached fairscale-0.4.13-py3-none-any.whl\r\n",
      "Requirement already satisfied: scipy in /Users/claudiaagudelo/Documents/Maestria/Cuarto Semestre/Desarrollo de soluciones/PDG/.venv/lib/python3.13/site-packages (from rfdetr) (1.16.2)\r\n",
      "Collecting timm (from rfdetr)\r\n",
      "  Using cached timm-1.0.20-py3-none-any.whl.metadata (61 kB)\r\n",
      "Requirement already satisfied: tqdm in /Users/claudiaagudelo/Documents/Maestria/Cuarto Semestre/Desarrollo de soluciones/PDG/.venv/lib/python3.13/site-packages (from rfdetr) (4.67.1)\r\n",
      "Requirement already satisfied: numpy in /Users/claudiaagudelo/Documents/Maestria/Cuarto Semestre/Desarrollo de soluciones/PDG/.venv/lib/python3.13/site-packages (from rfdetr) (2.2.6)\r\n",
      "Collecting accelerate (from rfdetr)\r\n",
      "  Downloading accelerate-1.11.0-py3-none-any.whl.metadata (19 kB)\r\n",
      "Collecting transformers (from rfdetr)\r\n",
      "  Using cached transformers-4.57.1-py3-none-any.whl.metadata (43 kB)\r\n",
      "Collecting peft (from rfdetr)\r\n",
      "  Using cached peft-0.17.1-py3-none-any.whl.metadata (14 kB)\r\n",
      "Collecting ninja (from rfdetr)\r\n",
      "  Using cached ninja-1.13.0-py3-none-macosx_10_9_universal2.whl.metadata (5.1 kB)\r\n",
      "Collecting einops (from rfdetr)\r\n",
      "  Using cached einops-0.8.1-py3-none-any.whl.metadata (13 kB)\r\n",
      "Requirement already satisfied: pandas in /Users/claudiaagudelo/Documents/Maestria/Cuarto Semestre/Desarrollo de soluciones/PDG/.venv/lib/python3.13/site-packages (from rfdetr) (2.3.2)\r\n",
      "Collecting pylabel (from rfdetr)\r\n",
      "  Using cached pylabel-0.1.55-py3-none-any.whl.metadata (3.8 kB)\r\n",
      "Collecting polygraphy (from rfdetr)\r\n",
      "  Using cached polygraphy-0.49.26-py2.py3-none-any.whl.metadata (5.8 kB)\r\n",
      "Collecting open_clip_torch (from rfdetr)\r\n",
      "  Using cached open_clip_torch-3.2.0-py3-none-any.whl.metadata (32 kB)\r\n",
      "Collecting rf100vl (from rfdetr)\r\n",
      "  Using cached rf100vl-1.1.0-py3-none-any.whl.metadata (8.3 kB)\r\n",
      "Requirement already satisfied: pydantic in /Users/claudiaagudelo/Documents/Maestria/Cuarto Semestre/Desarrollo de soluciones/PDG/.venv/lib/python3.13/site-packages (from rfdetr) (2.12.0)\r\n",
      "Collecting supervision (from rfdetr)\r\n",
      "  Using cached supervision-0.26.1-py3-none-any.whl.metadata (13 kB)\r\n",
      "Requirement already satisfied: matplotlib in /Users/claudiaagudelo/Documents/Maestria/Cuarto Semestre/Desarrollo de soluciones/PDG/.venv/lib/python3.13/site-packages (from rfdetr) (3.10.6)\r\n",
      "Collecting roboflow (from rfdetr)\r\n",
      "  Using cached roboflow-1.2.11-py3-none-any.whl.metadata (9.7 kB)\r\n",
      "Requirement already satisfied: filelock in /Users/claudiaagudelo/Documents/Maestria/Cuarto Semestre/Desarrollo de soluciones/PDG/.venv/lib/python3.13/site-packages (from torch>=1.13.0->rfdetr) (3.20.0)\r\n",
      "Requirement already satisfied: typing-extensions>=4.10.0 in /Users/claudiaagudelo/Documents/Maestria/Cuarto Semestre/Desarrollo de soluciones/PDG/.venv/lib/python3.13/site-packages (from torch>=1.13.0->rfdetr) (4.15.0)\r\n",
      "Requirement already satisfied: setuptools in /Users/claudiaagudelo/Documents/Maestria/Cuarto Semestre/Desarrollo de soluciones/PDG/.venv/lib/python3.13/site-packages (from torch>=1.13.0->rfdetr) (80.9.0)\r\n",
      "Requirement already satisfied: sympy>=1.13.3 in /Users/claudiaagudelo/Documents/Maestria/Cuarto Semestre/Desarrollo de soluciones/PDG/.venv/lib/python3.13/site-packages (from torch>=1.13.0->rfdetr) (1.14.0)\r\n",
      "Requirement already satisfied: networkx in /Users/claudiaagudelo/Documents/Maestria/Cuarto Semestre/Desarrollo de soluciones/PDG/.venv/lib/python3.13/site-packages (from torch>=1.13.0->rfdetr) (3.5)\r\n",
      "Requirement already satisfied: jinja2 in /Users/claudiaagudelo/Documents/Maestria/Cuarto Semestre/Desarrollo de soluciones/PDG/.venv/lib/python3.13/site-packages (from torch>=1.13.0->rfdetr) (3.1.6)\r\n",
      "Requirement already satisfied: fsspec in /Users/claudiaagudelo/Documents/Maestria/Cuarto Semestre/Desarrollo de soluciones/PDG/.venv/lib/python3.13/site-packages (from torch>=1.13.0->rfdetr) (2025.9.0)\r\n",
      "Requirement already satisfied: pillow!=8.3.*,>=5.3.0 in /Users/claudiaagudelo/Documents/Maestria/Cuarto Semestre/Desarrollo de soluciones/PDG/.venv/lib/python3.13/site-packages (from torchvision>=0.14.0->rfdetr) (11.3.0)\r\n",
      "Requirement already satisfied: packaging>=20.0 in /Users/claudiaagudelo/Documents/Maestria/Cuarto Semestre/Desarrollo de soluciones/PDG/.venv/lib/python3.13/site-packages (from accelerate->rfdetr) (25.0)\r\n",
      "Requirement already satisfied: psutil in /Users/claudiaagudelo/Documents/Maestria/Cuarto Semestre/Desarrollo de soluciones/PDG/.venv/lib/python3.13/site-packages (from accelerate->rfdetr) (7.1.0)\r\n",
      "Requirement already satisfied: pyyaml in /Users/claudiaagudelo/Documents/Maestria/Cuarto Semestre/Desarrollo de soluciones/PDG/.venv/lib/python3.13/site-packages (from accelerate->rfdetr) (6.0.2)\r\n",
      "Collecting huggingface_hub>=0.21.0 (from accelerate->rfdetr)\r\n",
      "  Using cached huggingface_hub-0.35.3-py3-none-any.whl.metadata (14 kB)\r\n",
      "Collecting safetensors>=0.4.3 (from accelerate->rfdetr)\r\n",
      "  Using cached safetensors-0.6.2-cp38-abi3-macosx_11_0_arm64.whl.metadata (4.1 kB)\r\n",
      "Requirement already satisfied: contourpy>=1.0.1 in /Users/claudiaagudelo/Documents/Maestria/Cuarto Semestre/Desarrollo de soluciones/PDG/.venv/lib/python3.13/site-packages (from matplotlib->rfdetr) (1.3.3)\r\n",
      "Requirement already satisfied: cycler>=0.10 in /Users/claudiaagudelo/Documents/Maestria/Cuarto Semestre/Desarrollo de soluciones/PDG/.venv/lib/python3.13/site-packages (from matplotlib->rfdetr) (0.12.1)\r\n",
      "Requirement already satisfied: fonttools>=4.22.0 in /Users/claudiaagudelo/Documents/Maestria/Cuarto Semestre/Desarrollo de soluciones/PDG/.venv/lib/python3.13/site-packages (from matplotlib->rfdetr) (4.60.0)\r\n",
      "Requirement already satisfied: kiwisolver>=1.3.1 in /Users/claudiaagudelo/Documents/Maestria/Cuarto Semestre/Desarrollo de soluciones/PDG/.venv/lib/python3.13/site-packages (from matplotlib->rfdetr) (1.4.9)\r\n",
      "Requirement already satisfied: pyparsing>=2.3.1 in /Users/claudiaagudelo/Documents/Maestria/Cuarto Semestre/Desarrollo de soluciones/PDG/.venv/lib/python3.13/site-packages (from matplotlib->rfdetr) (3.2.4)\r\n",
      "Requirement already satisfied: python-dateutil>=2.7 in /Users/claudiaagudelo/Documents/Maestria/Cuarto Semestre/Desarrollo de soluciones/PDG/.venv/lib/python3.13/site-packages (from matplotlib->rfdetr) (2.9.0.post0)\r\n",
      "Collecting regex (from open_clip_torch->rfdetr)\r\n",
      "  Using cached regex-2025.9.18-cp313-cp313-macosx_11_0_arm64.whl.metadata (40 kB)\r\n",
      "Collecting ftfy (from open_clip_torch->rfdetr)\r\n",
      "  Using cached ftfy-6.3.1-py3-none-any.whl.metadata (7.3 kB)\r\n",
      "Requirement already satisfied: pytz>=2020.1 in /Users/claudiaagudelo/Documents/Maestria/Cuarto Semestre/Desarrollo de soluciones/PDG/.venv/lib/python3.13/site-packages (from pandas->rfdetr) (2025.2)\r\n",
      "Requirement already satisfied: tzdata>=2022.7 in /Users/claudiaagudelo/Documents/Maestria/Cuarto Semestre/Desarrollo de soluciones/PDG/.venv/lib/python3.13/site-packages (from pandas->rfdetr) (2025.2)\r\n",
      "Requirement already satisfied: annotated-types>=0.6.0 in /Users/claudiaagudelo/Documents/Maestria/Cuarto Semestre/Desarrollo de soluciones/PDG/.venv/lib/python3.13/site-packages (from pydantic->rfdetr) (0.7.0)\r\n",
      "Requirement already satisfied: pydantic-core==2.41.1 in /Users/claudiaagudelo/Documents/Maestria/Cuarto Semestre/Desarrollo de soluciones/PDG/.venv/lib/python3.13/site-packages (from pydantic->rfdetr) (2.41.1)\r\n",
      "Requirement already satisfied: typing-inspection>=0.4.2 in /Users/claudiaagudelo/Documents/Maestria/Cuarto Semestre/Desarrollo de soluciones/PDG/.venv/lib/python3.13/site-packages (from pydantic->rfdetr) (0.4.2)\r\n",
      "Collecting bbox-visualizer (from pylabel->rfdetr)\r\n",
      "  Using cached bbox_visualizer-0.2.2-py3-none-any.whl.metadata (6.4 kB)\r\n",
      "Collecting opencv-python (from pylabel->rfdetr)\r\n",
      "  Using cached opencv_python-4.12.0.88-cp37-abi3-macosx_13_0_arm64.whl.metadata (19 kB)\r\n",
      "Requirement already satisfied: scikit-learn in /Users/claudiaagudelo/Documents/Maestria/Cuarto Semestre/Desarrollo de soluciones/PDG/.venv/lib/python3.13/site-packages (from pylabel->rfdetr) (1.7.2)\r\n",
      "Collecting jupyter-bbox-widget (from pylabel->rfdetr)\r\n",
      "  Using cached jupyter_bbox_widget-0.6.0-py3-none-any.whl.metadata (11 kB)\r\n",
      "Requirement already satisfied: certifi in /Users/claudiaagudelo/Documents/Maestria/Cuarto Semestre/Desarrollo de soluciones/PDG/.venv/lib/python3.13/site-packages (from roboflow->rfdetr) (2025.8.3)\r\n",
      "Collecting idna==3.7 (from roboflow->rfdetr)\r\n",
      "  Using cached idna-3.7-py3-none-any.whl.metadata (9.9 kB)\r\n",
      "Collecting opencv-python-headless==4.10.0.84 (from roboflow->rfdetr)\r\n",
      "  Using cached opencv_python_headless-4.10.0.84-cp37-abi3-macosx_11_0_arm64.whl.metadata (20 kB)\r\n",
      "Collecting pi-heif<2 (from roboflow->rfdetr)\r\n",
      "  Using cached pi_heif-1.1.1-cp313-cp313-macosx_11_0_arm64.whl.metadata (6.5 kB)\r\n",
      "Collecting pillow-avif-plugin<2 (from roboflow->rfdetr)\r\n",
      "  Using cached pillow_avif_plugin-1.5.2-cp313-cp313-macosx_11_0_arm64.whl.metadata (2.1 kB)\r\n",
      "Collecting python-dotenv (from roboflow->rfdetr)\r\n",
      "  Using cached python_dotenv-1.1.1-py3-none-any.whl.metadata (24 kB)\r\n",
      "Requirement already satisfied: requests in /Users/claudiaagudelo/Documents/Maestria/Cuarto Semestre/Desarrollo de soluciones/PDG/.venv/lib/python3.13/site-packages (from roboflow->rfdetr) (2.32.5)\r\n",
      "Requirement already satisfied: six in /Users/claudiaagudelo/Documents/Maestria/Cuarto Semestre/Desarrollo de soluciones/PDG/.venv/lib/python3.13/site-packages (from roboflow->rfdetr) (1.17.0)\r\n",
      "Requirement already satisfied: urllib3>=1.26.6 in /Users/claudiaagudelo/Documents/Maestria/Cuarto Semestre/Desarrollo de soluciones/PDG/.venv/lib/python3.13/site-packages (from roboflow->rfdetr) (2.5.0)\r\n",
      "Collecting requests-toolbelt (from roboflow->rfdetr)\r\n",
      "  Using cached requests_toolbelt-1.0.0-py2.py3-none-any.whl.metadata (14 kB)\r\n",
      "Collecting filetype (from roboflow->rfdetr)\r\n",
      "  Using cached filetype-1.2.0-py2.py3-none-any.whl.metadata (6.5 kB)\r\n",
      "Requirement already satisfied: defusedxml>=0.7.1 in /Users/claudiaagudelo/Documents/Maestria/Cuarto Semestre/Desarrollo de soluciones/PDG/.venv/lib/python3.13/site-packages (from supervision->rfdetr) (0.7.1)\r\n",
      "Collecting tokenizers<=0.23.0,>=0.22.0 (from transformers->rfdetr)\r\n",
      "  Using cached tokenizers-0.22.1-cp39-abi3-macosx_11_0_arm64.whl.metadata (6.8 kB)\r\n",
      "Collecting hf-xet<2.0.0,>=1.1.3 (from huggingface_hub>=0.21.0->accelerate->rfdetr)\r\n",
      "  Using cached hf_xet-1.1.10-cp37-abi3-macosx_11_0_arm64.whl.metadata (4.7 kB)\r\n",
      "Requirement already satisfied: charset_normalizer<4,>=2 in /Users/claudiaagudelo/Documents/Maestria/Cuarto Semestre/Desarrollo de soluciones/PDG/.venv/lib/python3.13/site-packages (from requests->roboflow->rfdetr) (3.4.3)\r\n",
      "Requirement already satisfied: mpmath<1.4,>=1.1.0 in /Users/claudiaagudelo/Documents/Maestria/Cuarto Semestre/Desarrollo de soluciones/PDG/.venv/lib/python3.13/site-packages (from sympy>=1.13.3->torch>=1.13.0->rfdetr) (1.3.0)\r\n",
      "Requirement already satisfied: wcwidth in /Users/claudiaagudelo/Documents/Maestria/Cuarto Semestre/Desarrollo de soluciones/PDG/.venv/lib/python3.13/site-packages (from ftfy->open_clip_torch->rfdetr) (0.2.13)\r\n",
      "Requirement already satisfied: MarkupSafe>=2.0 in /Users/claudiaagudelo/Documents/Maestria/Cuarto Semestre/Desarrollo de soluciones/PDG/.venv/lib/python3.13/site-packages (from jinja2->torch>=1.13.0->rfdetr) (3.0.2)\r\n",
      "Collecting anywidget>=0.9.0 (from jupyter-bbox-widget->pylabel->rfdetr)\r\n",
      "  Using cached anywidget-0.9.18-py3-none-any.whl.metadata (8.9 kB)\r\n",
      "Requirement already satisfied: joblib>=1.2.0 in /Users/claudiaagudelo/Documents/Maestria/Cuarto Semestre/Desarrollo de soluciones/PDG/.venv/lib/python3.13/site-packages (from scikit-learn->pylabel->rfdetr) (1.5.2)\r\n",
      "Requirement already satisfied: threadpoolctl>=3.1.0 in /Users/claudiaagudelo/Documents/Maestria/Cuarto Semestre/Desarrollo de soluciones/PDG/.venv/lib/python3.13/site-packages (from scikit-learn->pylabel->rfdetr) (3.6.0)\r\n",
      "Collecting ipywidgets>=7.6.0 (from anywidget>=0.9.0->jupyter-bbox-widget->pylabel->rfdetr)\r\n",
      "  Using cached ipywidgets-8.1.7-py3-none-any.whl.metadata (2.4 kB)\r\n",
      "Collecting psygnal>=0.8.1 (from anywidget>=0.9.0->jupyter-bbox-widget->pylabel->rfdetr)\r\n",
      "  Using cached psygnal-0.15.0-cp313-cp313-macosx_11_0_arm64.whl.metadata (6.1 kB)\r\n",
      "Requirement already satisfied: comm>=0.1.3 in /Users/claudiaagudelo/Documents/Maestria/Cuarto Semestre/Desarrollo de soluciones/PDG/.venv/lib/python3.13/site-packages (from ipywidgets>=7.6.0->anywidget>=0.9.0->jupyter-bbox-widget->pylabel->rfdetr) (0.2.3)\r\n",
      "Requirement already satisfied: ipython>=6.1.0 in /Users/claudiaagudelo/Documents/Maestria/Cuarto Semestre/Desarrollo de soluciones/PDG/.venv/lib/python3.13/site-packages (from ipywidgets>=7.6.0->anywidget>=0.9.0->jupyter-bbox-widget->pylabel->rfdetr) (9.5.0)\r\n",
      "Requirement already satisfied: traitlets>=4.3.1 in /Users/claudiaagudelo/Documents/Maestria/Cuarto Semestre/Desarrollo de soluciones/PDG/.venv/lib/python3.13/site-packages (from ipywidgets>=7.6.0->anywidget>=0.9.0->jupyter-bbox-widget->pylabel->rfdetr) (5.14.3)\r\n",
      "Collecting widgetsnbextension~=4.0.14 (from ipywidgets>=7.6.0->anywidget>=0.9.0->jupyter-bbox-widget->pylabel->rfdetr)\r\n",
      "  Using cached widgetsnbextension-4.0.14-py3-none-any.whl.metadata (1.6 kB)\r\n",
      "Collecting jupyterlab_widgets~=3.0.15 (from ipywidgets>=7.6.0->anywidget>=0.9.0->jupyter-bbox-widget->pylabel->rfdetr)\r\n",
      "  Using cached jupyterlab_widgets-3.0.15-py3-none-any.whl.metadata (20 kB)\r\n",
      "Requirement already satisfied: decorator in /Users/claudiaagudelo/Documents/Maestria/Cuarto Semestre/Desarrollo de soluciones/PDG/.venv/lib/python3.13/site-packages (from ipython>=6.1.0->ipywidgets>=7.6.0->anywidget>=0.9.0->jupyter-bbox-widget->pylabel->rfdetr) (5.2.1)\r\n",
      "Requirement already satisfied: ipython-pygments-lexers in /Users/claudiaagudelo/Documents/Maestria/Cuarto Semestre/Desarrollo de soluciones/PDG/.venv/lib/python3.13/site-packages (from ipython>=6.1.0->ipywidgets>=7.6.0->anywidget>=0.9.0->jupyter-bbox-widget->pylabel->rfdetr) (1.1.1)\r\n",
      "Requirement already satisfied: jedi>=0.16 in /Users/claudiaagudelo/Documents/Maestria/Cuarto Semestre/Desarrollo de soluciones/PDG/.venv/lib/python3.13/site-packages (from ipython>=6.1.0->ipywidgets>=7.6.0->anywidget>=0.9.0->jupyter-bbox-widget->pylabel->rfdetr) (0.19.2)\r\n",
      "Requirement already satisfied: matplotlib-inline in /Users/claudiaagudelo/Documents/Maestria/Cuarto Semestre/Desarrollo de soluciones/PDG/.venv/lib/python3.13/site-packages (from ipython>=6.1.0->ipywidgets>=7.6.0->anywidget>=0.9.0->jupyter-bbox-widget->pylabel->rfdetr) (0.1.7)\r\n",
      "Requirement already satisfied: pexpect>4.3 in /Users/claudiaagudelo/Documents/Maestria/Cuarto Semestre/Desarrollo de soluciones/PDG/.venv/lib/python3.13/site-packages (from ipython>=6.1.0->ipywidgets>=7.6.0->anywidget>=0.9.0->jupyter-bbox-widget->pylabel->rfdetr) (4.9.0)\r\n",
      "Requirement already satisfied: prompt_toolkit<3.1.0,>=3.0.41 in /Users/claudiaagudelo/Documents/Maestria/Cuarto Semestre/Desarrollo de soluciones/PDG/.venv/lib/python3.13/site-packages (from ipython>=6.1.0->ipywidgets>=7.6.0->anywidget>=0.9.0->jupyter-bbox-widget->pylabel->rfdetr) (3.0.52)\r\n",
      "Requirement already satisfied: pygments>=2.4.0 in /Users/claudiaagudelo/Documents/Maestria/Cuarto Semestre/Desarrollo de soluciones/PDG/.venv/lib/python3.13/site-packages (from ipython>=6.1.0->ipywidgets>=7.6.0->anywidget>=0.9.0->jupyter-bbox-widget->pylabel->rfdetr) (2.19.2)\r\n",
      "Requirement already satisfied: stack_data in /Users/claudiaagudelo/Documents/Maestria/Cuarto Semestre/Desarrollo de soluciones/PDG/.venv/lib/python3.13/site-packages (from ipython>=6.1.0->ipywidgets>=7.6.0->anywidget>=0.9.0->jupyter-bbox-widget->pylabel->rfdetr) (0.6.3)\r\n",
      "Requirement already satisfied: parso<0.9.0,>=0.8.4 in /Users/claudiaagudelo/Documents/Maestria/Cuarto Semestre/Desarrollo de soluciones/PDG/.venv/lib/python3.13/site-packages (from jedi>=0.16->ipython>=6.1.0->ipywidgets>=7.6.0->anywidget>=0.9.0->jupyter-bbox-widget->pylabel->rfdetr) (0.8.5)\r\n",
      "Requirement already satisfied: ptyprocess>=0.5 in /Users/claudiaagudelo/Documents/Maestria/Cuarto Semestre/Desarrollo de soluciones/PDG/.venv/lib/python3.13/site-packages (from pexpect>4.3->ipython>=6.1.0->ipywidgets>=7.6.0->anywidget>=0.9.0->jupyter-bbox-widget->pylabel->rfdetr) (0.7.0)\r\n",
      "Requirement already satisfied: executing>=1.2.0 in /Users/claudiaagudelo/Documents/Maestria/Cuarto Semestre/Desarrollo de soluciones/PDG/.venv/lib/python3.13/site-packages (from stack_data->ipython>=6.1.0->ipywidgets>=7.6.0->anywidget>=0.9.0->jupyter-bbox-widget->pylabel->rfdetr) (2.2.1)\r\n",
      "Requirement already satisfied: asttokens>=2.1.0 in /Users/claudiaagudelo/Documents/Maestria/Cuarto Semestre/Desarrollo de soluciones/PDG/.venv/lib/python3.13/site-packages (from stack_data->ipython>=6.1.0->ipywidgets>=7.6.0->anywidget>=0.9.0->jupyter-bbox-widget->pylabel->rfdetr) (3.0.0)\r\n",
      "Requirement already satisfied: pure-eval in /Users/claudiaagudelo/Documents/Maestria/Cuarto Semestre/Desarrollo de soluciones/PDG/.venv/lib/python3.13/site-packages (from stack_data->ipython>=6.1.0->ipywidgets>=7.6.0->anywidget>=0.9.0->jupyter-bbox-widget->pylabel->rfdetr) (0.2.3)\r\n",
      "Using cached rfdetr-1.3.0-py3-none-any.whl (139 kB)\r\n",
      "Downloading accelerate-1.11.0-py3-none-any.whl (375 kB)\r\n",
      "Downloading cython-3.1.5-cp313-cp313-macosx_11_0_arm64.whl (3.0 MB)\r\n",
      "\u001B[2K   \u001B[90m━━━━━━━━━━━━━━━━━━━━━━━━━━━━━━━━━━━━━━━━\u001B[0m \u001B[32m3.0/3.0 MB\u001B[0m \u001B[31m22.8 MB/s\u001B[0m eta \u001B[36m0:00:00\u001B[0m\r\n",
      "\u001B[?25hUsing cached einops-0.8.1-py3-none-any.whl (64 kB)\r\n",
      "Using cached ninja-1.13.0-py3-none-macosx_10_9_universal2.whl (310 kB)\r\n",
      "Using cached open_clip_torch-3.2.0-py3-none-any.whl (1.5 MB)\r\n",
      "Using cached timm-1.0.20-py3-none-any.whl (2.5 MB)\r\n",
      "Using cached peft-0.17.1-py3-none-any.whl (504 kB)\r\n",
      "Using cached polygraphy-0.49.26-py2.py3-none-any.whl (372 kB)\r\n",
      "Using cached pycocotools-2.0.10-cp312-abi3-macosx_10_13_universal2.whl (142 kB)\r\n",
      "Using cached pylabel-0.1.55-py3-none-any.whl (27 kB)\r\n",
      "Using cached rf100vl-1.1.0-py3-none-any.whl (16 kB)\r\n",
      "Using cached roboflow-1.2.11-py3-none-any.whl (89 kB)\r\n",
      "Using cached idna-3.7-py3-none-any.whl (66 kB)\r\n",
      "Using cached opencv_python_headless-4.10.0.84-cp37-abi3-macosx_11_0_arm64.whl (54.8 MB)\r\n",
      "Using cached supervision-0.26.1-py3-none-any.whl (207 kB)\r\n",
      "Using cached transformers-4.57.1-py3-none-any.whl (12.0 MB)\r\n",
      "Using cached huggingface_hub-0.35.3-py3-none-any.whl (564 kB)\r\n",
      "Using cached opencv_python-4.12.0.88-cp37-abi3-macosx_13_0_arm64.whl (37.9 MB)\r\n",
      "Using cached pi_heif-1.1.1-cp313-cp313-macosx_11_0_arm64.whl (892 kB)\r\n",
      "Using cached pillow_avif_plugin-1.5.2-cp313-cp313-macosx_11_0_arm64.whl (2.8 MB)\r\n",
      "Using cached regex-2025.9.18-cp313-cp313-macosx_11_0_arm64.whl (287 kB)\r\n",
      "Using cached safetensors-0.6.2-cp38-abi3-macosx_11_0_arm64.whl (432 kB)\r\n",
      "Using cached tokenizers-0.22.1-cp39-abi3-macosx_11_0_arm64.whl (2.9 MB)\r\n",
      "Using cached bbox_visualizer-0.2.2-py3-none-any.whl (10 kB)\r\n",
      "Using cached filetype-1.2.0-py2.py3-none-any.whl (19 kB)\r\n",
      "Using cached ftfy-6.3.1-py3-none-any.whl (44 kB)\r\n",
      "Using cached jupyter_bbox_widget-0.6.0-py3-none-any.whl (24 kB)\r\n",
      "Using cached python_dotenv-1.1.1-py3-none-any.whl (20 kB)\r\n",
      "Using cached requests_toolbelt-1.0.0-py2.py3-none-any.whl (54 kB)\r\n",
      "Using cached anywidget-0.9.18-py3-none-any.whl (220 kB)\r\n",
      "Using cached hf_xet-1.1.10-cp37-abi3-macosx_11_0_arm64.whl (2.6 MB)\r\n",
      "Using cached ipywidgets-8.1.7-py3-none-any.whl (139 kB)\r\n",
      "Using cached psygnal-0.15.0-cp313-cp313-macosx_11_0_arm64.whl (574 kB)\r\n",
      "Using cached jupyterlab_widgets-3.0.15-py3-none-any.whl (216 kB)\r\n",
      "Using cached widgetsnbextension-4.0.14-py3-none-any.whl (2.2 MB)\r\n",
      "Installing collected packages: pillow-avif-plugin, filetype, widgetsnbextension, safetensors, regex, python-dotenv, pycocotools, psygnal, polygraphy, pi-heif, opencv-python-headless, opencv-python, ninja, jupyterlab_widgets, idna, hf-xet, ftfy, einops, cython, bbox-visualizer, supervision, requests-toolbelt, ipywidgets, huggingface_hub, fairscale, tokenizers, timm, roboflow, anywidget, accelerate, transformers, rf100vl, open_clip_torch, jupyter-bbox-widget, pylabel, peft, rfdetr\r\n",
      "  Attempting uninstall: opencv-python-headless\r\n",
      "    Found existing installation: opencv-python-headless 4.12.0.88\r\n",
      "    Uninstalling opencv-python-headless-4.12.0.88:\r\n",
      "      Successfully uninstalled opencv-python-headless-4.12.0.88\r\n",
      "  Attempting uninstall: idna\r\n",
      "    Found existing installation: idna 3.10\r\n",
      "    Uninstalling idna-3.10:\r\n",
      "      Successfully uninstalled idna-3.10\r\n",
      "Successfully installed accelerate-1.11.0 anywidget-0.9.18 bbox-visualizer-0.2.2 cython-3.1.5 einops-0.8.1 fairscale-0.4.13 filetype-1.2.0 ftfy-6.3.1 hf-xet-1.1.10 huggingface_hub-0.35.3 idna-3.7 ipywidgets-8.1.7 jupyter-bbox-widget-0.6.0 jupyterlab_widgets-3.0.15 ninja-1.13.0 open_clip_torch-3.2.0 opencv-python-4.12.0.88 opencv-python-headless-4.10.0.84 peft-0.17.1 pi-heif-1.1.1 pillow-avif-plugin-1.5.2 polygraphy-0.49.26 psygnal-0.15.0 pycocotools-2.0.10 pylabel-0.1.55 python-dotenv-1.1.1 regex-2025.9.18 requests-toolbelt-1.0.0 rf100vl-1.1.0 rfdetr-1.3.0 roboflow-1.2.11 safetensors-0.6.2 supervision-0.26.1 timm-1.0.20 tokenizers-0.22.1 transformers-4.57.1 widgetsnbextension-4.0.14\r\n",
      "\r\n",
      "\u001B[1m[\u001B[0m\u001B[34;49mnotice\u001B[0m\u001B[1;39;49m]\u001B[0m\u001B[39;49m A new release of pip is available: \u001B[0m\u001B[31;49m24.3.1\u001B[0m\u001B[39;49m -> \u001B[0m\u001B[32;49m25.2\u001B[0m\r\n",
      "\u001B[1m[\u001B[0m\u001B[34;49mnotice\u001B[0m\u001B[1;39;49m]\u001B[0m\u001B[39;49m To update, run: \u001B[0m\u001B[32;49mpip install --upgrade pip\u001B[0m\r\n"
     ]
    },
    {
     "name": "stderr",
     "output_type": "stream",
     "text": [
      "UnsupportedFieldAttributeWarning: The 'repr' attribute with value False was provided to the `Field()` function, which has no effect in the context it was used. 'repr' is field-specific metadata, and can only be attached to a model field using `Annotated` metadata or by assignment. This may have happened because an `Annotated` type alias using the `type` statement was used, or if the `Field()` function was attached to a single member of a union type.\n",
      "UnsupportedFieldAttributeWarning: The 'frozen' attribute with value True was provided to the `Field()` function, which has no effect in the context it was used. 'frozen' is field-specific metadata, and can only be attached to a model field using `Annotated` metadata or by assignment. This may have happened because an `Annotated` type alias using the `type` statement was used, or if the `Field()` function was attached to a single member of a union type.\n",
      "rf-detr-small.pth: 100%|██████████| 368M/368M [00:13<00:00, 29.3MiB/s] \n"
     ]
    },
    {
     "name": "stdout",
     "output_type": "stream",
     "text": [
      "Using a different number of positional encodings than DINOv2, which means we're not loading DINOv2 backbone weights. This is not a problem if finetuning a pretrained RF-DETR model.\n",
      "Using patch size 16 instead of 14, which means we're not loading DINOv2 backbone weights. This is not a problem if finetuning a pretrained RF-DETR model.\n",
      "Loading pretrain weights\n"
     ]
    }
   ],
   "execution_count": 1
  },
  {
   "cell_type": "code",
   "id": "94abea3755029727",
   "metadata": {
    "jupyter": {
     "is_executing": true
    }
   },
   "source": [
    "import os\n",
    "import wandb\n",
    "wandb.login()"
   ],
   "outputs": [],
   "execution_count": null
  },
  {
   "cell_type": "code",
   "id": "4bfd760b462c1dbd",
   "metadata": {
    "ExecuteTime": {
     "end_time": "2025-10-20T02:41:24.991186Z",
     "start_time": "2025-10-20T02:41:23.750653Z"
    }
   },
   "source": [
    "!pip install tensorboard\n",
    "!pip install --upgrade wandb"
   ],
   "outputs": [
    {
     "name": "stdout",
     "output_type": "stream",
     "text": [
      "Requirement already satisfied: tensorboard in /Users/claudiaagudelo/Documents/Maestria/Cuarto Semestre/Desarrollo de soluciones/HerdNet-fork/HerdNet/.venv/lib/python3.13/site-packages (2.20.0)\r\n",
      "Requirement already satisfied: absl-py>=0.4 in /Users/claudiaagudelo/Documents/Maestria/Cuarto Semestre/Desarrollo de soluciones/HerdNet-fork/HerdNet/.venv/lib/python3.13/site-packages (from tensorboard) (2.3.1)\r\n",
      "Requirement already satisfied: grpcio>=1.48.2 in /Users/claudiaagudelo/Documents/Maestria/Cuarto Semestre/Desarrollo de soluciones/HerdNet-fork/HerdNet/.venv/lib/python3.13/site-packages (from tensorboard) (1.75.1)\r\n",
      "Requirement already satisfied: markdown>=2.6.8 in /Users/claudiaagudelo/Documents/Maestria/Cuarto Semestre/Desarrollo de soluciones/HerdNet-fork/HerdNet/.venv/lib/python3.13/site-packages (from tensorboard) (3.9)\r\n",
      "Requirement already satisfied: numpy>=1.12.0 in /Users/claudiaagudelo/Documents/Maestria/Cuarto Semestre/Desarrollo de soluciones/HerdNet-fork/HerdNet/.venv/lib/python3.13/site-packages (from tensorboard) (2.2.6)\r\n",
      "Requirement already satisfied: packaging in /Users/claudiaagudelo/Documents/Maestria/Cuarto Semestre/Desarrollo de soluciones/HerdNet-fork/HerdNet/.venv/lib/python3.13/site-packages (from tensorboard) (25.0)\r\n",
      "Requirement already satisfied: pillow in /Users/claudiaagudelo/Documents/Maestria/Cuarto Semestre/Desarrollo de soluciones/HerdNet-fork/HerdNet/.venv/lib/python3.13/site-packages (from tensorboard) (12.0.0)\r\n",
      "Requirement already satisfied: protobuf!=4.24.0,>=3.19.6 in /Users/claudiaagudelo/Documents/Maestria/Cuarto Semestre/Desarrollo de soluciones/HerdNet-fork/HerdNet/.venv/lib/python3.13/site-packages (from tensorboard) (6.33.0)\r\n",
      "Requirement already satisfied: setuptools>=41.0.0 in /Users/claudiaagudelo/Documents/Maestria/Cuarto Semestre/Desarrollo de soluciones/HerdNet-fork/HerdNet/.venv/lib/python3.13/site-packages (from tensorboard) (80.9.0)\r\n",
      "Requirement already satisfied: tensorboard-data-server<0.8.0,>=0.7.0 in /Users/claudiaagudelo/Documents/Maestria/Cuarto Semestre/Desarrollo de soluciones/HerdNet-fork/HerdNet/.venv/lib/python3.13/site-packages (from tensorboard) (0.7.2)\r\n",
      "Requirement already satisfied: werkzeug>=1.0.1 in /Users/claudiaagudelo/Documents/Maestria/Cuarto Semestre/Desarrollo de soluciones/HerdNet-fork/HerdNet/.venv/lib/python3.13/site-packages (from tensorboard) (3.1.3)\r\n",
      "Requirement already satisfied: typing-extensions~=4.12 in /Users/claudiaagudelo/Documents/Maestria/Cuarto Semestre/Desarrollo de soluciones/HerdNet-fork/HerdNet/.venv/lib/python3.13/site-packages (from grpcio>=1.48.2->tensorboard) (4.15.0)\r\n",
      "Requirement already satisfied: MarkupSafe>=2.1.1 in /Users/claudiaagudelo/Documents/Maestria/Cuarto Semestre/Desarrollo de soluciones/HerdNet-fork/HerdNet/.venv/lib/python3.13/site-packages (from werkzeug>=1.0.1->tensorboard) (3.0.3)\r\n",
      "\r\n",
      "\u001B[1m[\u001B[0m\u001B[34;49mnotice\u001B[0m\u001B[1;39;49m]\u001B[0m\u001B[39;49m A new release of pip is available: \u001B[0m\u001B[31;49m24.3.1\u001B[0m\u001B[39;49m -> \u001B[0m\u001B[32;49m25.2\u001B[0m\r\n",
      "\u001B[1m[\u001B[0m\u001B[34;49mnotice\u001B[0m\u001B[1;39;49m]\u001B[0m\u001B[39;49m To update, run: \u001B[0m\u001B[32;49mpip install --upgrade pip\u001B[0m\r\n",
      "Requirement already satisfied: wandb in /Users/claudiaagudelo/Documents/Maestria/Cuarto Semestre/Desarrollo de soluciones/HerdNet-fork/HerdNet/.venv/lib/python3.13/site-packages (0.22.2)\r\n",
      "Requirement already satisfied: click>=8.0.1 in /Users/claudiaagudelo/Documents/Maestria/Cuarto Semestre/Desarrollo de soluciones/HerdNet-fork/HerdNet/.venv/lib/python3.13/site-packages (from wandb) (8.3.0)\r\n",
      "Requirement already satisfied: gitpython!=3.1.29,>=1.0.0 in /Users/claudiaagudelo/Documents/Maestria/Cuarto Semestre/Desarrollo de soluciones/HerdNet-fork/HerdNet/.venv/lib/python3.13/site-packages (from wandb) (3.1.45)\r\n",
      "Requirement already satisfied: packaging in /Users/claudiaagudelo/Documents/Maestria/Cuarto Semestre/Desarrollo de soluciones/HerdNet-fork/HerdNet/.venv/lib/python3.13/site-packages (from wandb) (25.0)\r\n",
      "Requirement already satisfied: platformdirs in /Users/claudiaagudelo/Documents/Maestria/Cuarto Semestre/Desarrollo de soluciones/HerdNet-fork/HerdNet/.venv/lib/python3.13/site-packages (from wandb) (4.5.0)\r\n",
      "Requirement already satisfied: protobuf!=4.21.0,!=5.28.0,<7,>=3.19.0 in /Users/claudiaagudelo/Documents/Maestria/Cuarto Semestre/Desarrollo de soluciones/HerdNet-fork/HerdNet/.venv/lib/python3.13/site-packages (from wandb) (6.33.0)\r\n",
      "Requirement already satisfied: pydantic<3 in /Users/claudiaagudelo/Documents/Maestria/Cuarto Semestre/Desarrollo de soluciones/HerdNet-fork/HerdNet/.venv/lib/python3.13/site-packages (from wandb) (2.12.3)\r\n",
      "Requirement already satisfied: pyyaml in /Users/claudiaagudelo/Documents/Maestria/Cuarto Semestre/Desarrollo de soluciones/HerdNet-fork/HerdNet/.venv/lib/python3.13/site-packages (from wandb) (6.0.3)\r\n",
      "Requirement already satisfied: requests<3,>=2.0.0 in /Users/claudiaagudelo/Documents/Maestria/Cuarto Semestre/Desarrollo de soluciones/HerdNet-fork/HerdNet/.venv/lib/python3.13/site-packages (from wandb) (2.32.5)\r\n",
      "Requirement already satisfied: sentry-sdk>=2.0.0 in /Users/claudiaagudelo/Documents/Maestria/Cuarto Semestre/Desarrollo de soluciones/HerdNet-fork/HerdNet/.venv/lib/python3.13/site-packages (from wandb) (2.42.0)\r\n",
      "Requirement already satisfied: typing-extensions<5,>=4.8 in /Users/claudiaagudelo/Documents/Maestria/Cuarto Semestre/Desarrollo de soluciones/HerdNet-fork/HerdNet/.venv/lib/python3.13/site-packages (from wandb) (4.15.0)\r\n",
      "Requirement already satisfied: gitdb<5,>=4.0.1 in /Users/claudiaagudelo/Documents/Maestria/Cuarto Semestre/Desarrollo de soluciones/HerdNet-fork/HerdNet/.venv/lib/python3.13/site-packages (from gitpython!=3.1.29,>=1.0.0->wandb) (4.0.12)\r\n",
      "Requirement already satisfied: annotated-types>=0.6.0 in /Users/claudiaagudelo/Documents/Maestria/Cuarto Semestre/Desarrollo de soluciones/HerdNet-fork/HerdNet/.venv/lib/python3.13/site-packages (from pydantic<3->wandb) (0.7.0)\r\n",
      "Requirement already satisfied: pydantic-core==2.41.4 in /Users/claudiaagudelo/Documents/Maestria/Cuarto Semestre/Desarrollo de soluciones/HerdNet-fork/HerdNet/.venv/lib/python3.13/site-packages (from pydantic<3->wandb) (2.41.4)\r\n",
      "Requirement already satisfied: typing-inspection>=0.4.2 in /Users/claudiaagudelo/Documents/Maestria/Cuarto Semestre/Desarrollo de soluciones/HerdNet-fork/HerdNet/.venv/lib/python3.13/site-packages (from pydantic<3->wandb) (0.4.2)\r\n",
      "Requirement already satisfied: charset_normalizer<4,>=2 in /Users/claudiaagudelo/Documents/Maestria/Cuarto Semestre/Desarrollo de soluciones/HerdNet-fork/HerdNet/.venv/lib/python3.13/site-packages (from requests<3,>=2.0.0->wandb) (3.4.4)\r\n",
      "Requirement already satisfied: idna<4,>=2.5 in /Users/claudiaagudelo/Documents/Maestria/Cuarto Semestre/Desarrollo de soluciones/HerdNet-fork/HerdNet/.venv/lib/python3.13/site-packages (from requests<3,>=2.0.0->wandb) (3.7)\r\n",
      "Requirement already satisfied: urllib3<3,>=1.21.1 in /Users/claudiaagudelo/Documents/Maestria/Cuarto Semestre/Desarrollo de soluciones/HerdNet-fork/HerdNet/.venv/lib/python3.13/site-packages (from requests<3,>=2.0.0->wandb) (2.5.0)\r\n",
      "Requirement already satisfied: certifi>=2017.4.17 in /Users/claudiaagudelo/Documents/Maestria/Cuarto Semestre/Desarrollo de soluciones/HerdNet-fork/HerdNet/.venv/lib/python3.13/site-packages (from requests<3,>=2.0.0->wandb) (2025.10.5)\r\n",
      "Requirement already satisfied: smmap<6,>=3.0.1 in /Users/claudiaagudelo/Documents/Maestria/Cuarto Semestre/Desarrollo de soluciones/HerdNet-fork/HerdNet/.venv/lib/python3.13/site-packages (from gitdb<5,>=4.0.1->gitpython!=3.1.29,>=1.0.0->wandb) (5.0.2)\r\n",
      "\r\n",
      "\u001B[1m[\u001B[0m\u001B[34;49mnotice\u001B[0m\u001B[1;39;49m]\u001B[0m\u001B[39;49m A new release of pip is available: \u001B[0m\u001B[31;49m24.3.1\u001B[0m\u001B[39;49m -> \u001B[0m\u001B[32;49m25.2\u001B[0m\r\n",
      "\u001B[1m[\u001B[0m\u001B[34;49mnotice\u001B[0m\u001B[1;39;49m]\u001B[0m\u001B[39;49m To update, run: \u001B[0m\u001B[32;49mpip install --upgrade pip\u001B[0m\r\n"
     ]
    }
   ],
   "execution_count": 4
  },
  {
   "cell_type": "code",
   "id": "36a6c2a77d2b9768",
   "metadata": {
    "jupyter": {
     "is_executing": true
    },
    "ExecuteTime": {
     "start_time": "2025-10-20T02:41:30.461194Z"
    }
   },
   "source": [
    "model.train(\n",
    "    dataset_dir='./patches',\n",
    "    epochs=10,\n",
    "    batch_size=2,\n",
    "    grad_accum_steps=4,\n",
    "    lr=1e-4,\n",
    "    output_dir='output',\n",
    "    early_stopping=True,\n",
    "    wandb=True,\n",
    "    project='detr-cars',\n",
    "    run = 'test_clau'\n",
    ")"
   ],
   "outputs": [
    {
     "name": "stdout",
     "output_type": "stream",
     "text": [
      "TensorBoard logging initialized. To monitor logs, use 'tensorboard --logdir output' and open http://localhost:6006/ in browser.\n"
     ]
    },
    {
     "name": "stderr",
     "output_type": "stream",
     "text": [
      "\u001B[34m\u001B[1mwandb\u001B[0m: Currently logged in as: \u001B[33mclaudiajohana031\u001B[0m (\u001B[33mluis-manrique-car-camera-traps\u001B[0m) to \u001B[32mhttps://api.wandb.ai\u001B[0m. Use \u001B[1m`wandb login --relogin`\u001B[0m to force relogin\n"
     ]
    },
    {
     "data": {
      "text/plain": [
       "<IPython.core.display.HTML object>"
      ],
      "text/html": []
     },
     "metadata": {},
     "output_type": "display_data"
    },
    {
     "data": {
      "text/plain": [
       "<IPython.core.display.HTML object>"
      ],
      "text/html": [
       "Tracking run with wandb version 0.22.2"
      ]
     },
     "metadata": {},
     "output_type": "display_data"
    },
    {
     "data": {
      "text/plain": [
       "<IPython.core.display.HTML object>"
      ],
      "text/html": [
       "Run data is saved locally in <code>output/wandb/run-20251019_214131-9tr9kvhb</code>"
      ]
     },
     "metadata": {},
     "output_type": "display_data"
    },
    {
     "data": {
      "text/plain": [
       "<IPython.core.display.HTML object>"
      ],
      "text/html": [
       "Syncing run <strong><a href='https://wandb.ai/luis-manrique-car-camera-traps/detr-cars/runs/9tr9kvhb' target=\"_blank\">test_clau</a></strong> to <a href='https://wandb.ai/luis-manrique-car-camera-traps/detr-cars' target=\"_blank\">Weights & Biases</a> (<a href='https://wandb.me/developer-guide' target=\"_blank\">docs</a>)<br>"
      ]
     },
     "metadata": {},
     "output_type": "display_data"
    },
    {
     "data": {
      "text/plain": [
       "<IPython.core.display.HTML object>"
      ],
      "text/html": [
       " View project at <a href='https://wandb.ai/luis-manrique-car-camera-traps/detr-cars' target=\"_blank\">https://wandb.ai/luis-manrique-car-camera-traps/detr-cars</a>"
      ]
     },
     "metadata": {},
     "output_type": "display_data"
    },
    {
     "data": {
      "text/plain": [
       "<IPython.core.display.HTML object>"
      ],
      "text/html": [
       " View run at <a href='https://wandb.ai/luis-manrique-car-camera-traps/detr-cars/runs/9tr9kvhb' target=\"_blank\">https://wandb.ai/luis-manrique-car-camera-traps/detr-cars/runs/9tr9kvhb</a>"
      ]
     },
     "metadata": {},
     "output_type": "display_data"
    },
    {
     "name": "stdout",
     "output_type": "stream",
     "text": [
      "W&B logging initialized. To monitor logs, open https://wandb.ai/luis-manrique-car-camera-traps/detr-cars/runs/9tr9kvhb.\n",
      "Not using distributed mode\n",
      "git:\n",
      "  sha: 1644f5a5ed138d01daf738c884538b57db780a3d, status: has uncommited changes, branch: main\n",
      "\n",
      "Namespace(num_classes=6, grad_accum_steps=4, amp=True, lr=0.0001, lr_encoder=0.00015, batch_size=2, weight_decay=0.0001, epochs=10, lr_drop=100, clip_max_norm=0.1, lr_vit_layer_decay=0.8, lr_component_decay=0.7, do_benchmark=False, dropout=0, drop_path=0.0, drop_mode='standard', drop_schedule='constant', cutoff_epoch=0, pretrained_encoder=None, pretrain_weights='rf-detr-small.pth', pretrain_exclude_keys=None, pretrain_keys_modify_to_load=None, pretrained_distiller=None, encoder='dinov2_windowed_small', vit_encoder_num_layers=12, window_block_indexes=None, position_embedding='sine', out_feature_indexes=[3, 6, 9, 12], freeze_encoder=False, layer_norm=True, rms_norm=False, backbone_lora=False, force_no_pretrain=False, dec_layers=3, dim_feedforward=2048, hidden_dim=256, sa_nheads=8, ca_nheads=16, num_queries=300, group_detr=13, two_stage=True, projector_scale=['P4'], lite_refpoint_refine=True, num_select=300, dec_n_points=2, decoder_norm='LN', bbox_reparam=True, freeze_batch_norm=False, set_cost_class=2, set_cost_bbox=5, set_cost_giou=2, cls_loss_coef=1.0, bbox_loss_coef=5, giou_loss_coef=2, focal_alpha=0.25, aux_loss=True, sum_group_losses=False, use_varifocal_loss=False, use_position_supervised_loss=False, ia_bce_loss=True, dataset_file='roboflow', coco_path=None, dataset_dir='./patches', square_resize_div_64=True, output_dir='output', dont_save_weights=False, checkpoint_interval=10, seed=42, resume='', start_epoch=0, eval=False, use_ema=True, ema_decay=0.993, ema_tau=100, num_workers=2, device='mps', world_size=1, dist_url='env://', sync_bn=True, fp16_eval=False, encoder_only=False, backbone_only=False, resolution=512, use_cls_token=False, multi_scale=True, expanded_scales=True, do_random_resize_via_padding=False, warmup_epochs=0.0, lr_scheduler='step', lr_min_factor=0.0, early_stopping=True, early_stopping_patience=10, early_stopping_min_delta=0.001, early_stopping_use_ema=False, gradient_checkpointing=False, patch_size=16, num_windows=2, positional_encoding_size=32, mask_downsample_ratio=4, tensorboard=True, wandb=True, project='detr-cars', run='test_clau', class_names=['Alcelaphinae', 'Buffalo', 'Kob', 'Warthog', 'Waterbuck', 'Elephant'], run_test=True, segmentation_head=False, distributed=False)\n",
      "number of params: 31805340\n",
      "[672]\n",
      "loading annotations into memory...\n",
      "Done (t=0.07s)\n",
      "creating index...\n",
      "index created!\n",
      "[672]\n",
      "loading annotations into memory...\n",
      "Done (t=0.01s)\n",
      "creating index...\n",
      "index created!\n",
      "[672]\n",
      "loading annotations into memory...\n",
      "Done (t=0.02s)\n",
      "creating index...\n",
      "index created!\n",
      "Get benchmark\n",
      "Start training\n",
      "Grad accum steps:  4\n",
      "Total batch size:  8\n",
      "LENGTH OF DATA LOADER: 10871\n"
     ]
    },
    {
     "name": "stderr",
     "output_type": "stream",
     "text": [
      "UserWarning: torch.cuda.amp.GradScaler is enabled, but CUDA is not available.  Disabling.\n",
      "UserWarning: Please use the new API settings to control TF32 behavior, such as torch.backends.cudnn.conv.fp32_precision = 'tf32' or torch.backends.cuda.matmul.fp32_precision = 'ieee'. Old settings, e.g, torch.backends.cuda.matmul.allow_tf32 = True, torch.backends.cudnn.allow_tf32 = True, allowTF32CuDNN() and allowTF32CuBLAS() will be deprecated after Pytorch 2.9. Please see https://pytorch.org/docs/main/notes/cuda.html#tensorfloat-32-tf32-on-ampere-and-later-devices (Triggered internally at /Users/runner/work/pytorch/pytorch/pytorch/aten/src/ATen/Context.cpp:85.)\n",
      "UnsupportedFieldAttributeWarning: The 'repr' attribute with value False was provided to the `Field()` function, which has no effect in the context it was used. 'repr' is field-specific metadata, and can only be attached to a model field using `Annotated` metadata or by assignment. This may have happened because an `Annotated` type alias using the `type` statement was used, or if the `Field()` function was attached to a single member of a union type.\n",
      "UnsupportedFieldAttributeWarning: The 'frozen' attribute with value True was provided to the `Field()` function, which has no effect in the context it was used. 'frozen' is field-specific metadata, and can only be attached to a model field using `Annotated` metadata or by assignment. This may have happened because an `Annotated` type alias using the `type` statement was used, or if the `Field()` function was attached to a single member of a union type.\n",
      "UserWarning: Please use the new API settings to control TF32 behavior, such as torch.backends.cudnn.conv.fp32_precision = 'tf32' or torch.backends.cuda.matmul.fp32_precision = 'ieee'. Old settings, e.g, torch.backends.cuda.matmul.allow_tf32 = True, torch.backends.cudnn.allow_tf32 = True, allowTF32CuDNN() and allowTF32CuBLAS() will be deprecated after Pytorch 2.9. Please see https://pytorch.org/docs/main/notes/cuda.html#tensorfloat-32-tf32-on-ampere-and-later-devices (Triggered internally at /Users/runner/work/pytorch/pytorch/pytorch/aten/src/ATen/Context.cpp:85.)\n",
      "UnsupportedFieldAttributeWarning: The 'repr' attribute with value False was provided to the `Field()` function, which has no effect in the context it was used. 'repr' is field-specific metadata, and can only be attached to a model field using `Annotated` metadata or by assignment. This may have happened because an `Annotated` type alias using the `type` statement was used, or if the `Field()` function was attached to a single member of a union type.\n",
      "UnsupportedFieldAttributeWarning: The 'frozen' attribute with value True was provided to the `Field()` function, which has no effect in the context it was used. 'frozen' is field-specific metadata, and can only be attached to a model field using `Annotated` metadata or by assignment. This may have happened because an `Annotated` type alias using the `type` statement was used, or if the `Field()` function was attached to a single member of a union type.\n",
      "UserWarning: User provided device_type of 'cuda', but CUDA is not available. Disabling\n",
      "UserWarning: torch.meshgrid: in an upcoming release, it will be required to pass the indexing argument. (Triggered internally at /Users/runner/work/pytorch/pytorch/pytorch/aten/src/ATen/native/TensorShape.cpp:4319.)\n",
      "UserWarning: Using a non-tuple sequence for multidimensional indexing is deprecated and will be changed in pytorch 2.9; use x[tuple(seq)] instead of x[seq]. In pytorch 2.9 this will be interpreted as tensor index, x[torch.tensor(seq)], which will result either in an error or a different result (Triggered internally at /Users/runner/work/pytorch/pytorch/pytorch/torch/csrc/autograd/python_variable_indexing.cpp:351.)\n",
      "UserWarning: Using a non-tuple sequence for multidimensional indexing is deprecated and will be changed in pytorch 2.9; use x[tuple(seq)] instead of x[seq]. In pytorch 2.9 this will be interpreted as tensor index, x[torch.tensor(seq)], which will result either in an error or a different result (Triggered internally at /Users/runner/work/pytorch/pytorch/pytorch/torch/csrc/autograd/python_variable_indexing.cpp:351.)\n",
      "UserWarning: Using a non-tuple sequence for multidimensional indexing is deprecated and will be changed in pytorch 2.9; use x[tuple(seq)] instead of x[seq]. In pytorch 2.9 this will be interpreted as tensor index, x[torch.tensor(seq)], which will result either in an error or a different result (Triggered internally at /Users/runner/work/pytorch/pytorch/pytorch/torch/csrc/autograd/python_variable_indexing.cpp:351.)\n",
      "UserWarning: The operator 'aten::grid_sampler_2d_backward' is not currently supported on the MPS backend and will fall back to run on the CPU. This may have performance implications. (Triggered internally at /Users/runner/work/pytorch/pytorch/pytorch/aten/src/ATen/mps/MPSFallback.mm:15.)\n"
     ]
    },
    {
     "name": "stdout",
     "output_type": "stream",
     "text": [
      "Epoch: [0]  [    0/10871]  eta: 2 days, 17:43:20  lr: 0.000100  class_error: 100.00  loss: 0.7924 (0.7924)  loss_ce: 0.2090 (0.2090)  loss_bbox: 0.0000 (0.0000)  loss_giou: 0.0000 (0.0000)  loss_ce_0: 0.2068 (0.2068)  loss_bbox_0: 0.0000 (0.0000)  loss_giou_0: 0.0000 (0.0000)  loss_ce_1: 0.2452 (0.2452)  loss_bbox_1: 0.0000 (0.0000)  loss_giou_1: 0.0000 (0.0000)  loss_ce_enc: 0.1315 (0.1315)  loss_bbox_enc: 0.0000 (0.0000)  loss_giou_enc: 0.0000 (0.0000)  loss_ce_unscaled: 0.2090 (0.2090)  class_error_unscaled: 100.0000 (100.0000)  loss_bbox_unscaled: 0.0000 (0.0000)  loss_giou_unscaled: 0.0000 (0.0000)  cardinality_error_unscaled: 3691.5000 (3691.5000)  loss_ce_0_unscaled: 0.2068 (0.2068)  loss_bbox_0_unscaled: 0.0000 (0.0000)  loss_giou_0_unscaled: 0.0000 (0.0000)  cardinality_error_0_unscaled: 3859.0000 (3859.0000)  loss_ce_1_unscaled: 0.2452 (0.2452)  loss_bbox_1_unscaled: 0.0000 (0.0000)  loss_giou_1_unscaled: 0.0000 (0.0000)  cardinality_error_1_unscaled: 3843.5000 (3843.5000)  loss_ce_enc_unscaled: 0.1315 (0.1315)  loss_bbox_enc_unscaled: 0.0000 (0.0000)  loss_giou_enc_unscaled: 0.0000 (0.0000)  cardinality_error_enc_unscaled: 3877.5000 (3877.5000)  time: 21.7644  data: 7.6756\n"
     ]
    }
   ],
   "execution_count": null
  },
  {
   "metadata": {},
   "cell_type": "code",
   "outputs": [],
   "execution_count": null,
   "source": "",
   "id": "603f6b575842031b"
  }
 ],
 "metadata": {
  "kernelspec": {
   "display_name": "Python 3 (ipykernel)",
   "language": "python",
   "name": "python3"
  },
  "language_info": {
   "codemirror_mode": {
    "name": "ipython",
    "version": 2
   },
   "file_extension": ".py",
   "mimetype": "text/x-python",
   "name": "python",
   "nbconvert_exporter": "python",
   "pygments_lexer": "ipython2",
   "version": "2.7.6"
  }
 },
 "nbformat": 4,
 "nbformat_minor": 5
}
