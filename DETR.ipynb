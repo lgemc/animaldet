{
 "cells": [
  {
   "cell_type": "code",
   "execution_count": 1,
   "id": "080493e0-f81c-4ed9-b740-75c1491138ec",
   "metadata": {},
   "outputs": [
    {
     "name": "stderr",
     "output_type": "stream",
     "text": [
      "UserWarning: Please use the new API settings to control TF32 behavior, such as torch.backends.cudnn.conv.fp32_precision = 'tf32' or torch.backends.cuda.matmul.fp32_precision = 'ieee'. Old settings, e.g, torch.backends.cuda.matmul.allow_tf32 = True, torch.backends.cudnn.allow_tf32 = True, allowTF32CuDNN() and allowTF32CuBLAS() will be deprecated after Pytorch 2.9. Please see https://pytorch.org/docs/main/notes/cuda.html#tensorfloat-32-tf32-on-ampere-and-later-devices (Triggered internally at /pytorch/aten/src/ATen/Context.cpp:80.)\n"
     ]
    },
    {
     "name": "stdout",
     "output_type": "stream",
     "text": [
      "Using a different number of positional encodings than DINOv2, which means we're not loading DINOv2 backbone weights. This is not a problem if finetuning a pretrained RF-DETR model.\n",
      "Using patch size 16 instead of 14, which means we're not loading DINOv2 backbone weights. This is not a problem if finetuning a pretrained RF-DETR model.\n",
      "Loading pretrain weights\n"
     ]
    }
   ],
   "source": [
    "from rfdetr import RFDETRSmall\n",
    "\n",
    "model = RFDETRSmall()"
   ]
  },
  {
   "cell_type": "code",
   "execution_count": null,
   "id": "83a031ae-829d-4ef7-8760-4547be9a52c9",
   "metadata": {
    "scrolled": true
   },
   "outputs": [],
   "source": [
    "model.train(\n",
    "    dataset_dir='data',\n",
    "    epochs=10,\n",
    "    batch_size=2,\n",
    "    grad_accum_steps=4,\n",
    "    lr=1e-4,\n",
    "    output_dir='output',\n",
    "    early_stopping=True,\n",
    "    wandb=True,\n",
    "    project='detr-cars',\n",
    "    run = 'test_1'\n",
    ")"
   ]
  },
  {
   "cell_type": "code",
   "execution_count": 5,
   "id": "9fb8cc05-8291-41b0-b7b3-f5c0b68f8343",
   "metadata": {},
   "outputs": [
    {
     "name": "stdout",
     "output_type": "stream",
     "text": [
      "Using a different number of positional encodings than DINOv2, which means we're not loading DINOv2 backbone weights. This is not a problem if finetuning a pretrained RF-DETR model.\n",
      "Using patch size 16 instead of 14, which means we're not loading DINOv2 backbone weights. This is not a problem if finetuning a pretrained RF-DETR model.\n",
      "Loading pretrain weights\n"
     ]
    }
   ],
   "source": [
    "model = RFDETRSmall(pretrain_weights='output/checkpoint.pth')"
   ]
  },
  {
   "cell_type": "code",
   "execution_count": 14,
   "id": "279fe7b8-0202-4633-ade2-f80ff2c5b91a",
   "metadata": {},
   "outputs": [
    {
     "data": {
      "text/plain": [
       "Detections(xyxy=array([], shape=(0, 4), dtype=float32), mask=None, confidence=array([], dtype=float32), class_id=array([], dtype=int64), tracker_id=None, data={}, metadata={})"
      ]
     },
     "execution_count": 14,
     "metadata": {},
     "output_type": "execute_result"
    }
   ],
   "source": [
    "model.predict('data/train/000113a692ba61cd55ea3acb9c2f9c41709710a1_0.JPG')"
   ]
  },
  {
   "cell_type": "code",
   "execution_count": null,
   "id": "b5c6fe23-b4f2-4692-bdd3-a62473608a83",
   "metadata": {},
   "outputs": [],
   "source": []
  }
 ],
 "metadata": {
  "kernelspec": {
   "display_name": "Python3.11",
   "language": "python",
   "name": "python3.11"
  },
  "language_info": {
   "codemirror_mode": {
    "name": "ipython",
    "version": 3
   },
   "file_extension": ".py",
   "mimetype": "text/x-python",
   "name": "python",
   "nbconvert_exporter": "python",
   "pygments_lexer": "ipython3",
   "version": "3.11.3"
  }
 },
 "nbformat": 4,
 "nbformat_minor": 5
}
